{
 "cells": [
  {
   "cell_type": "markdown",
   "metadata": {},
   "source": [
    "# MLX-LM Fine-tuning with Advanced Improvements\n\n",
    "This notebook implements state-of-the-art fine-tuning techniques with:\n",
    "- Higher LoRA rank (64) for more model capacity\n",
    "- Advanced learning rate scheduling with cosine restarts\n",
    "- Gradient clipping for stability\n",
    "- Aggressive plateau detection and mitigation\n",
    "- Comprehensive evaluation metrics"
   ]
  },
  {
   "cell_type": "markdown",
   "metadata": {},
   "source": [
    "## 1. Install Dependencies"
   ]
  },
  {
   "cell_type": "code",
   "metadata": {
    "ExecuteTime": {
     "end_time": "2025-08-06T23:39:00.809083Z",
     "start_time": "2025-08-06T23:38:59.699786Z"
    }
   },
   "source": [
    "!pip install sentencepiece transformers datasets\n",
    "!pip install tiktoken"
   ],
   "outputs": [
    {
     "name": "stdout",
     "output_type": "stream",
     "text": [
      "Requirement already satisfied: sentencepiece in /Users/George/miniconda3/envs/MLXTraining/lib/python3.12/site-packages (0.2.0)\r\n",
      "Requirement already satisfied: transformers in /Users/George/miniconda3/envs/MLXTraining/lib/python3.12/site-packages (4.54.1)\r\n",
      "Requirement already satisfied: datasets in /Users/George/miniconda3/envs/MLXTraining/lib/python3.12/site-packages (3.3.2)\r\n",
      "Requirement already satisfied: filelock in /Users/George/miniconda3/envs/MLXTraining/lib/python3.12/site-packages (from transformers) (3.18.0)\r\n",
      "Requirement already satisfied: huggingface-hub<1.0,>=0.34.0 in /Users/George/miniconda3/envs/MLXTraining/lib/python3.12/site-packages (from transformers) (0.34.3)\r\n",
      "Requirement already satisfied: numpy>=1.17 in /Users/George/miniconda3/envs/MLXTraining/lib/python3.12/site-packages (from transformers) (2.3.1)\r\n",
      "Requirement already satisfied: packaging>=20.0 in /Users/George/miniconda3/envs/MLXTraining/lib/python3.12/site-packages (from transformers) (25.0)\r\n",
      "Requirement already satisfied: pyyaml>=5.1 in /Users/George/miniconda3/envs/MLXTraining/lib/python3.12/site-packages (from transformers) (6.0.2)\r\n",
      "Requirement already satisfied: regex!=2019.12.17 in /Users/George/miniconda3/envs/MLXTraining/lib/python3.12/site-packages (from transformers) (2025.7.34)\r\n",
      "Requirement already satisfied: requests in /Users/George/miniconda3/envs/MLXTraining/lib/python3.12/site-packages (from transformers) (2.32.4)\r\n",
      "Requirement already satisfied: tokenizers<0.22,>=0.21 in /Users/George/miniconda3/envs/MLXTraining/lib/python3.12/site-packages (from transformers) (0.21.4)\r\n",
      "Requirement already satisfied: safetensors>=0.4.3 in /Users/George/miniconda3/envs/MLXTraining/lib/python3.12/site-packages (from transformers) (0.5.3)\r\n",
      "Requirement already satisfied: tqdm>=4.27 in /Users/George/miniconda3/envs/MLXTraining/lib/python3.12/site-packages (from transformers) (4.67.1)\r\n",
      "Requirement already satisfied: fsspec>=2023.5.0 in /Users/George/miniconda3/envs/MLXTraining/lib/python3.12/site-packages (from huggingface-hub<1.0,>=0.34.0->transformers) (2024.12.0)\r\n",
      "Requirement already satisfied: typing-extensions>=3.7.4.3 in /Users/George/miniconda3/envs/MLXTraining/lib/python3.12/site-packages (from huggingface-hub<1.0,>=0.34.0->transformers) (4.12.2)\r\n",
      "Requirement already satisfied: hf-xet<2.0.0,>=1.1.3 in /Users/George/miniconda3/envs/MLXTraining/lib/python3.12/site-packages (from huggingface-hub<1.0,>=0.34.0->transformers) (1.1.5)\r\n",
      "Requirement already satisfied: pyarrow>=15.0.0 in /Users/George/miniconda3/envs/MLXTraining/lib/python3.12/site-packages (from datasets) (19.0.0)\r\n",
      "Requirement already satisfied: dill<0.3.9,>=0.3.0 in /Users/George/miniconda3/envs/MLXTraining/lib/python3.12/site-packages (from datasets) (0.3.8)\r\n",
      "Requirement already satisfied: pandas in /Users/George/miniconda3/envs/MLXTraining/lib/python3.12/site-packages (from datasets) (2.3.1)\r\n",
      "Requirement already satisfied: xxhash in /Users/George/miniconda3/envs/MLXTraining/lib/python3.12/site-packages (from datasets) (3.5.0)\r\n",
      "Requirement already satisfied: multiprocess<0.70.17 in /Users/George/miniconda3/envs/MLXTraining/lib/python3.12/site-packages (from datasets) (0.70.15)\r\n",
      "Requirement already satisfied: aiohttp in /Users/George/miniconda3/envs/MLXTraining/lib/python3.12/site-packages (from datasets) (3.11.10)\r\n",
      "Requirement already satisfied: aiohappyeyeballs>=2.3.0 in /Users/George/miniconda3/envs/MLXTraining/lib/python3.12/site-packages (from aiohttp->datasets) (2.4.4)\r\n",
      "Requirement already satisfied: aiosignal>=1.1.2 in /Users/George/miniconda3/envs/MLXTraining/lib/python3.12/site-packages (from aiohttp->datasets) (1.2.0)\r\n",
      "Requirement already satisfied: attrs>=17.3.0 in /Users/George/miniconda3/envs/MLXTraining/lib/python3.12/site-packages (from aiohttp->datasets) (24.3.0)\r\n",
      "Requirement already satisfied: frozenlist>=1.1.1 in /Users/George/miniconda3/envs/MLXTraining/lib/python3.12/site-packages (from aiohttp->datasets) (1.5.0)\r\n",
      "Requirement already satisfied: multidict<7.0,>=4.5 in /Users/George/miniconda3/envs/MLXTraining/lib/python3.12/site-packages (from aiohttp->datasets) (6.1.0)\r\n",
      "Requirement already satisfied: propcache>=0.2.0 in /Users/George/miniconda3/envs/MLXTraining/lib/python3.12/site-packages (from aiohttp->datasets) (0.3.1)\r\n",
      "Requirement already satisfied: yarl<2.0,>=1.17.0 in /Users/George/miniconda3/envs/MLXTraining/lib/python3.12/site-packages (from aiohttp->datasets) (1.18.0)\r\n",
      "Requirement already satisfied: idna>=2.0 in /Users/George/miniconda3/envs/MLXTraining/lib/python3.12/site-packages (from yarl<2.0,>=1.17.0->aiohttp->datasets) (3.7)\r\n",
      "Requirement already satisfied: charset_normalizer<4,>=2 in /Users/George/miniconda3/envs/MLXTraining/lib/python3.12/site-packages (from requests->transformers) (3.3.2)\r\n",
      "Requirement already satisfied: urllib3<3,>=1.21.1 in /Users/George/miniconda3/envs/MLXTraining/lib/python3.12/site-packages (from requests->transformers) (2.5.0)\r\n",
      "Requirement already satisfied: certifi>=2017.4.17 in /Users/George/miniconda3/envs/MLXTraining/lib/python3.12/site-packages (from requests->transformers) (2025.7.14)\r\n",
      "Requirement already satisfied: python-dateutil>=2.8.2 in /Users/George/miniconda3/envs/MLXTraining/lib/python3.12/site-packages (from pandas->datasets) (2.9.0.post0)\r\n",
      "Requirement already satisfied: pytz>=2020.1 in /Users/George/miniconda3/envs/MLXTraining/lib/python3.12/site-packages (from pandas->datasets) (2025.2)\r\n",
      "Requirement already satisfied: tzdata>=2022.7 in /Users/George/miniconda3/envs/MLXTraining/lib/python3.12/site-packages (from pandas->datasets) (2025.2)\r\n",
      "Requirement already satisfied: six>=1.5 in /Users/George/miniconda3/envs/MLXTraining/lib/python3.12/site-packages (from python-dateutil>=2.8.2->pandas->datasets) (1.17.0)\r\n",
      "Requirement already satisfied: tiktoken in /Users/George/miniconda3/envs/MLXTraining/lib/python3.12/site-packages (0.10.0)\r\n",
      "Requirement already satisfied: regex>=2022.1.18 in /Users/George/miniconda3/envs/MLXTraining/lib/python3.12/site-packages (from tiktoken) (2025.7.34)\r\n",
      "Requirement already satisfied: requests>=2.26.0 in /Users/George/miniconda3/envs/MLXTraining/lib/python3.12/site-packages (from tiktoken) (2.32.4)\r\n",
      "Requirement already satisfied: charset_normalizer<4,>=2 in /Users/George/miniconda3/envs/MLXTraining/lib/python3.12/site-packages (from requests>=2.26.0->tiktoken) (3.3.2)\r\n",
      "Requirement already satisfied: idna<4,>=2.5 in /Users/George/miniconda3/envs/MLXTraining/lib/python3.12/site-packages (from requests>=2.26.0->tiktoken) (3.7)\r\n",
      "Requirement already satisfied: urllib3<3,>=1.21.1 in /Users/George/miniconda3/envs/MLXTraining/lib/python3.12/site-packages (from requests>=2.26.0->tiktoken) (2.5.0)\r\n",
      "Requirement already satisfied: certifi>=2017.4.17 in /Users/George/miniconda3/envs/MLXTraining/lib/python3.12/site-packages (from requests>=2.26.0->tiktoken) (2025.7.14)\r\n"
     ]
    }
   ],
   "execution_count": 1
  },
  {
   "cell_type": "markdown",
   "metadata": {},
   "source": [
    "## 2. Import Libraries"
   ]
  },
  {
   "cell_type": "code",
   "metadata": {
    "ExecuteTime": {
     "end_time": "2025-08-06T23:39:02.751563Z",
     "start_time": "2025-08-06T23:39:00.877631Z"
    }
   },
   "source": [
    "import json\n",
    "import os\n",
    "import math\n",
    "import time\n",
    "from typing import Dict, List, Optional, Tuple, Union\n",
    "import numpy as np\n",
    "import matplotlib.pyplot as plt\n",
    "from tqdm import tqdm\n",
    "\n",
    "import mlx.core as mx\n",
    "import mlx.nn as nn\n",
    "import mlx.optimizers as optim\n",
    "from mlx.utils import tree_flatten\n",
    "from mlx_lm import generate, load\n",
    "from mlx_lm.tuner import TrainingArgs, datasets, linear_to_lora_layers, train\n",
    "from transformers import PreTrainedTokenizer\n",
    "from datasets import load_dataset\n",
    "from mlx_lm.tuner.datasets import CacheDataset"
   ],
   "outputs": [],
   "execution_count": 2
  },
  {
   "cell_type": "markdown",
   "metadata": {},
   "source": [
    "## 3. Advanced Learning Rate Scheduler with Callback"
   ]
  },
  {
   "cell_type": "code",
   "metadata": {
    "ExecuteTime": {
     "end_time": "2025-08-06T23:39:02.794238Z",
     "start_time": "2025-08-06T23:39:02.789289Z"
    }
   },
   "source": [
    "class ImprovedLRSchedulerCallback:\n",
    "    \"\"\"Enhanced callback with gradient clipping and aggressive plateau detection\"\"\"\n",
    "    \n",
    "    def __init__(self, optimizer, base_lr: float, min_lr: float, \n",
    "                 warmup_steps: int, total_steps: int, \n",
    "                 schedule_type: str = \"cosine\", \n",
    "                 gradient_clip_norm: float = 1.0):\n",
    "        self.optimizer = optimizer\n",
    "        self.base_lr = base_lr\n",
    "        self.min_lr = min_lr\n",
    "        self.warmup_steps = warmup_steps\n",
    "        self.total_steps = total_steps\n",
    "        self.schedule_type = schedule_type\n",
    "        self.gradient_clip_norm = gradient_clip_norm\n",
    "        self.current_step = 0\n",
    "        \n",
    "        # Tracking\n",
    "        self.train_losses: List[Tuple[int, float]] = []\n",
    "        self.val_losses: List[Tuple[int, float]] = []\n",
    "        self.learning_rates: List[Tuple[int, float]] = []\n",
    "        self.gradient_norms = []\n",
    "        self.plateau_count = 0\n",
    "        self.best_val_loss = float('inf')\n",
    "        \n",
    "    def get_lr(self, step: int) -> float:\n",
    "        \"\"\"Calculate learning rate for current step\"\"\"\n",
    "        if step < self.warmup_steps:\n",
    "            return self.base_lr * (step / self.warmup_steps)\n",
    "        \n",
    "        progress = (step - self.warmup_steps) / (self.total_steps - self.warmup_steps)\n",
    "        progress = min(1.0, progress)\n",
    "        \n",
    "        if self.schedule_type == \"cosine\":\n",
    "            lr = self.min_lr + (self.base_lr - self.min_lr) * \\\n",
    "                 0.5 * (1 + math.cos(math.pi * progress))\n",
    "        elif self.schedule_type == \"cosine_restarts\":\n",
    "            # Cosine with warm restarts every 100 steps\n",
    "            cycle_steps = 100\n",
    "            cycle = (step - self.warmup_steps) // cycle_steps\n",
    "            cycle_progress = ((step - self.warmup_steps) % cycle_steps) / cycle_steps\n",
    "            \n",
    "            # Decay base LR over cycles\n",
    "            cycle_base_lr = self.base_lr * (0.85 ** cycle)\n",
    "            lr = self.min_lr + (cycle_base_lr - self.min_lr) * \\\n",
    "                 0.5 * (1 + math.cos(math.pi * cycle_progress))\n",
    "        else:\n",
    "            lr = self.base_lr\n",
    "            \n",
    "        return lr\n",
    "    \n",
    "    def on_train_loss_report(self, info: Dict[str, Union[float, int]]) -> None:\n",
    "        \"\"\"Called after each training step with aggressive plateau handling\"\"\"\n",
    "        iteration = info[\"iteration\"]\n",
    "        loss = info[\"train_loss\"]\n",
    "        \n",
    "        self.train_losses.append((iteration, loss))\n",
    "        \n",
    "        # Update learning rate\n",
    "        new_lr = self.get_lr(iteration)\n",
    "        self.optimizer.learning_rate = new_lr\n",
    "        self.learning_rates.append((iteration, new_lr))\n",
    "        self.current_step = iteration\n",
    "        \n",
    "        # Aggressive plateau detection\n",
    "        if len(self.train_losses) > 30:\n",
    "            recent_losses = [l[1] for l in self.train_losses[-30:]]\n",
    "            loss_std = np.std(recent_losses)\n",
    "            \n",
    "            # Detect plateau earlier and boost more aggressively\n",
    "            if loss_std < 0.005 and self.plateau_count < 5:\n",
    "                # More aggressive LR boost\n",
    "                boosted_lr = min(new_lr * 3, self.base_lr * 1.5)\n",
    "                self.optimizer.learning_rate = boosted_lr\n",
    "                self.plateau_count += 1\n",
    "                print(f\"\\n🚀 Plateau detected at step {iteration}, boosting LR to {boosted_lr:.2e}\")\n",
    "    \n",
    "    def on_val_loss_report(self, info: Dict[str, Union[float, int]]) -> None:\n",
    "        \"\"\"Called after validation\"\"\"\n",
    "        iteration = info[\"iteration\"]\n",
    "        val_loss = info[\"val_loss\"]\n",
    "        self.val_losses.append((iteration, val_loss))\n",
    "        \n",
    "        # Track best validation loss\n",
    "        if val_loss < self.best_val_loss:\n",
    "            self.best_val_loss = val_loss\n",
    "    \n",
    "    def plot_training_curves(self):\n",
    "        \"\"\"Plot training metrics\"\"\"\n",
    "        fig, (ax1, ax2) = plt.subplots(1, 2, figsize=(15, 6))\n",
    "        \n",
    "        # Plot losses\n",
    "        if self.train_losses:\n",
    "            train_its, train_vals = zip(*self.train_losses)\n",
    "            ax1.plot(train_its, train_vals, 'b-', alpha=0.7, label='Train Loss')\n",
    "        if self.val_losses:\n",
    "            val_its, val_vals = zip(*self.val_losses)\n",
    "            ax1.plot(val_its, val_vals, 'orange', marker='o', label='Validation Loss')\n",
    "        ax1.set_xlabel('Iteration')\n",
    "        ax1.set_ylabel('Loss')\n",
    "        ax1.set_title('Training and Validation Loss')\n",
    "        ax1.legend()\n",
    "        ax1.grid(True, alpha=0.3)\n",
    "        \n",
    "        # Plot learning rate\n",
    "        if self.learning_rates:\n",
    "            lr_its, lr_vals = zip(*self.learning_rates)\n",
    "            ax2.plot(lr_its, lr_vals, 'g-')\n",
    "            ax2.set_xlabel('Iteration')\n",
    "            ax2.set_ylabel('Learning Rate')\n",
    "            ax2.set_title('Learning Rate Schedule')\n",
    "            ax2.grid(True, alpha=0.3)\n",
    "            ax2.set_yscale('log')\n",
    "        \n",
    "        plt.tight_layout()\n",
    "        plt.show()"
   ],
   "outputs": [],
   "execution_count": 3
  },
  {
   "cell_type": "markdown",
   "metadata": {},
   "source": [
    "## 4. Load Model and Configure Advanced LoRA"
   ]
  },
  {
   "cell_type": "code",
   "metadata": {
    "ExecuteTime": {
     "end_time": "2025-08-06T23:39:05.129183Z",
     "start_time": "2025-08-06T23:39:02.800462Z"
    }
   },
   "source": [
    "# Load model\n",
    "model_path = \"codellama/CodeLlama-7b-Instruct-hf\"\n",
    "model, tokenizer = load(model_path)\n",
    "\n",
    "# Advanced LoRA configuration with higher rank\n",
    "improved_lora_config = {\n",
    "    \"num_layers\": 12,  # More layers for better adaptation\n",
    "    \"lora_parameters\": {\n",
    "        \"rank\": 16,  # Higher rank for more expressiveness\n",
    "        \"scale\": 32.0,  # alpha = 2 * rank\n",
    "        \"dropout\": 0.15,  # Stronger regularization\n",
    "    },\n",
    "}\n",
    "\n",
    "# Setup directories\n",
    "adapter_path = \"adapters_improved\"\n",
    "os.makedirs(adapter_path, exist_ok=True)\n",
    "adapter_config_path = os.path.join(adapter_path, \"adapter_config.json\")\n",
    "adapter_file_path = os.path.join(adapter_path, \"adapters.safetensors\")\n",
    "\n",
    "# Save configuration\n",
    "with open(adapter_config_path, \"w\") as f:\n",
    "    json.dump(improved_lora_config, f, indent=4)\n",
    "\n",
    "# Apply LoRA to model\n",
    "model.freeze()\n",
    "linear_to_lora_layers(\n",
    "    model, \n",
    "    improved_lora_config[\"num_layers\"], \n",
    "    improved_lora_config[\"lora_parameters\"]\n",
    ")\n",
    "\n",
    "# Count parameters\n",
    "num_train_params = sum(v.size for _, v in tree_flatten(model.trainable_parameters()))\n",
    "total_params = sum(v.size for _, v in tree_flatten(model.parameters()))\n",
    "print(f\"Total parameters: {total_params:,}\")\n",
    "print(f\"Trainable parameters: {num_train_params:,}\")\n",
    "print(f\"Trainable percentage: {num_train_params/total_params*100:.2f}%\")\n",
    "\n",
    "model.train()"
   ],
   "outputs": [
    {
     "data": {
      "text/plain": [
       "Fetching 10 files:   0%|          | 0/10 [00:00<?, ?it/s]"
      ],
      "application/vnd.jupyter.widget-view+json": {
       "version_major": 2,
       "version_minor": 0,
       "model_id": "48e240a2d9924a5480eb98c8740bde44"
      }
     },
     "metadata": {},
     "output_type": "display_data"
    },
    {
     "name": "stdout",
     "output_type": "stream",
     "text": [
      "Total parameters: 6,741,692,416\n",
      "Trainable parameters: 3,145,728\n",
      "Trainable percentage: 0.05%\n"
     ]
    },
    {
     "data": {
      "text/plain": [
       "Model(\n",
       "  (model): LlamaModel(\n",
       "    (embed_tokens): Embedding(32016, 4096)\n",
       "    (layers.0): TransformerBlock(\n",
       "      (self_attn): Attention(\n",
       "        (q_proj): Linear(input_dims=4096, output_dims=4096, bias=False)\n",
       "        (k_proj): Linear(input_dims=4096, output_dims=4096, bias=False)\n",
       "        (v_proj): Linear(input_dims=4096, output_dims=4096, bias=False)\n",
       "        (o_proj): Linear(input_dims=4096, output_dims=4096, bias=False)\n",
       "        (rope): RoPE(128, traditional=False)\n",
       "      )\n",
       "      (mlp): MLP(\n",
       "        (gate_proj): Linear(input_dims=4096, output_dims=11008, bias=False)\n",
       "        (down_proj): Linear(input_dims=11008, output_dims=4096, bias=False)\n",
       "        (up_proj): Linear(input_dims=4096, output_dims=11008, bias=False)\n",
       "      )\n",
       "      (input_layernorm): RMSNorm(4096, eps=1e-05)\n",
       "      (post_attention_layernorm): RMSNorm(4096, eps=1e-05)\n",
       "    )\n",
       "    (layers.1): TransformerBlock(\n",
       "      (self_attn): Attention(\n",
       "        (q_proj): Linear(input_dims=4096, output_dims=4096, bias=False)\n",
       "        (k_proj): Linear(input_dims=4096, output_dims=4096, bias=False)\n",
       "        (v_proj): Linear(input_dims=4096, output_dims=4096, bias=False)\n",
       "        (o_proj): Linear(input_dims=4096, output_dims=4096, bias=False)\n",
       "        (rope): RoPE(128, traditional=False)\n",
       "      )\n",
       "      (mlp): MLP(\n",
       "        (gate_proj): Linear(input_dims=4096, output_dims=11008, bias=False)\n",
       "        (down_proj): Linear(input_dims=11008, output_dims=4096, bias=False)\n",
       "        (up_proj): Linear(input_dims=4096, output_dims=11008, bias=False)\n",
       "      )\n",
       "      (input_layernorm): RMSNorm(4096, eps=1e-05)\n",
       "      (post_attention_layernorm): RMSNorm(4096, eps=1e-05)\n",
       "    )\n",
       "    (layers.2): TransformerBlock(\n",
       "      (self_attn): Attention(\n",
       "        (q_proj): Linear(input_dims=4096, output_dims=4096, bias=False)\n",
       "        (k_proj): Linear(input_dims=4096, output_dims=4096, bias=False)\n",
       "        (v_proj): Linear(input_dims=4096, output_dims=4096, bias=False)\n",
       "        (o_proj): Linear(input_dims=4096, output_dims=4096, bias=False)\n",
       "        (rope): RoPE(128, traditional=False)\n",
       "      )\n",
       "      (mlp): MLP(\n",
       "        (gate_proj): Linear(input_dims=4096, output_dims=11008, bias=False)\n",
       "        (down_proj): Linear(input_dims=11008, output_dims=4096, bias=False)\n",
       "        (up_proj): Linear(input_dims=4096, output_dims=11008, bias=False)\n",
       "      )\n",
       "      (input_layernorm): RMSNorm(4096, eps=1e-05)\n",
       "      (post_attention_layernorm): RMSNorm(4096, eps=1e-05)\n",
       "    )\n",
       "    (layers.3): TransformerBlock(\n",
       "      (self_attn): Attention(\n",
       "        (q_proj): Linear(input_dims=4096, output_dims=4096, bias=False)\n",
       "        (k_proj): Linear(input_dims=4096, output_dims=4096, bias=False)\n",
       "        (v_proj): Linear(input_dims=4096, output_dims=4096, bias=False)\n",
       "        (o_proj): Linear(input_dims=4096, output_dims=4096, bias=False)\n",
       "        (rope): RoPE(128, traditional=False)\n",
       "      )\n",
       "      (mlp): MLP(\n",
       "        (gate_proj): Linear(input_dims=4096, output_dims=11008, bias=False)\n",
       "        (down_proj): Linear(input_dims=11008, output_dims=4096, bias=False)\n",
       "        (up_proj): Linear(input_dims=4096, output_dims=11008, bias=False)\n",
       "      )\n",
       "      (input_layernorm): RMSNorm(4096, eps=1e-05)\n",
       "      (post_attention_layernorm): RMSNorm(4096, eps=1e-05)\n",
       "    )\n",
       "    (layers.4): TransformerBlock(\n",
       "      (self_attn): Attention(\n",
       "        (q_proj): Linear(input_dims=4096, output_dims=4096, bias=False)\n",
       "        (k_proj): Linear(input_dims=4096, output_dims=4096, bias=False)\n",
       "        (v_proj): Linear(input_dims=4096, output_dims=4096, bias=False)\n",
       "        (o_proj): Linear(input_dims=4096, output_dims=4096, bias=False)\n",
       "        (rope): RoPE(128, traditional=False)\n",
       "      )\n",
       "      (mlp): MLP(\n",
       "        (gate_proj): Linear(input_dims=4096, output_dims=11008, bias=False)\n",
       "        (down_proj): Linear(input_dims=11008, output_dims=4096, bias=False)\n",
       "        (up_proj): Linear(input_dims=4096, output_dims=11008, bias=False)\n",
       "      )\n",
       "      (input_layernorm): RMSNorm(4096, eps=1e-05)\n",
       "      (post_attention_layernorm): RMSNorm(4096, eps=1e-05)\n",
       "    )\n",
       "    (layers.5): TransformerBlock(\n",
       "      (self_attn): Attention(\n",
       "        (q_proj): Linear(input_dims=4096, output_dims=4096, bias=False)\n",
       "        (k_proj): Linear(input_dims=4096, output_dims=4096, bias=False)\n",
       "        (v_proj): Linear(input_dims=4096, output_dims=4096, bias=False)\n",
       "        (o_proj): Linear(input_dims=4096, output_dims=4096, bias=False)\n",
       "        (rope): RoPE(128, traditional=False)\n",
       "      )\n",
       "      (mlp): MLP(\n",
       "        (gate_proj): Linear(input_dims=4096, output_dims=11008, bias=False)\n",
       "        (down_proj): Linear(input_dims=11008, output_dims=4096, bias=False)\n",
       "        (up_proj): Linear(input_dims=4096, output_dims=11008, bias=False)\n",
       "      )\n",
       "      (input_layernorm): RMSNorm(4096, eps=1e-05)\n",
       "      (post_attention_layernorm): RMSNorm(4096, eps=1e-05)\n",
       "    )\n",
       "    (layers.6): TransformerBlock(\n",
       "      (self_attn): Attention(\n",
       "        (q_proj): Linear(input_dims=4096, output_dims=4096, bias=False)\n",
       "        (k_proj): Linear(input_dims=4096, output_dims=4096, bias=False)\n",
       "        (v_proj): Linear(input_dims=4096, output_dims=4096, bias=False)\n",
       "        (o_proj): Linear(input_dims=4096, output_dims=4096, bias=False)\n",
       "        (rope): RoPE(128, traditional=False)\n",
       "      )\n",
       "      (mlp): MLP(\n",
       "        (gate_proj): Linear(input_dims=4096, output_dims=11008, bias=False)\n",
       "        (down_proj): Linear(input_dims=11008, output_dims=4096, bias=False)\n",
       "        (up_proj): Linear(input_dims=4096, output_dims=11008, bias=False)\n",
       "      )\n",
       "      (input_layernorm): RMSNorm(4096, eps=1e-05)\n",
       "      (post_attention_layernorm): RMSNorm(4096, eps=1e-05)\n",
       "    )\n",
       "    (layers.7): TransformerBlock(\n",
       "      (self_attn): Attention(\n",
       "        (q_proj): Linear(input_dims=4096, output_dims=4096, bias=False)\n",
       "        (k_proj): Linear(input_dims=4096, output_dims=4096, bias=False)\n",
       "        (v_proj): Linear(input_dims=4096, output_dims=4096, bias=False)\n",
       "        (o_proj): Linear(input_dims=4096, output_dims=4096, bias=False)\n",
       "        (rope): RoPE(128, traditional=False)\n",
       "      )\n",
       "      (mlp): MLP(\n",
       "        (gate_proj): Linear(input_dims=4096, output_dims=11008, bias=False)\n",
       "        (down_proj): Linear(input_dims=11008, output_dims=4096, bias=False)\n",
       "        (up_proj): Linear(input_dims=4096, output_dims=11008, bias=False)\n",
       "      )\n",
       "      (input_layernorm): RMSNorm(4096, eps=1e-05)\n",
       "      (post_attention_layernorm): RMSNorm(4096, eps=1e-05)\n",
       "    )\n",
       "    (layers.8): TransformerBlock(\n",
       "      (self_attn): Attention(\n",
       "        (q_proj): Linear(input_dims=4096, output_dims=4096, bias=False)\n",
       "        (k_proj): Linear(input_dims=4096, output_dims=4096, bias=False)\n",
       "        (v_proj): Linear(input_dims=4096, output_dims=4096, bias=False)\n",
       "        (o_proj): Linear(input_dims=4096, output_dims=4096, bias=False)\n",
       "        (rope): RoPE(128, traditional=False)\n",
       "      )\n",
       "      (mlp): MLP(\n",
       "        (gate_proj): Linear(input_dims=4096, output_dims=11008, bias=False)\n",
       "        (down_proj): Linear(input_dims=11008, output_dims=4096, bias=False)\n",
       "        (up_proj): Linear(input_dims=4096, output_dims=11008, bias=False)\n",
       "      )\n",
       "      (input_layernorm): RMSNorm(4096, eps=1e-05)\n",
       "      (post_attention_layernorm): RMSNorm(4096, eps=1e-05)\n",
       "    )\n",
       "    (layers.9): TransformerBlock(\n",
       "      (self_attn): Attention(\n",
       "        (q_proj): Linear(input_dims=4096, output_dims=4096, bias=False)\n",
       "        (k_proj): Linear(input_dims=4096, output_dims=4096, bias=False)\n",
       "        (v_proj): Linear(input_dims=4096, output_dims=4096, bias=False)\n",
       "        (o_proj): Linear(input_dims=4096, output_dims=4096, bias=False)\n",
       "        (rope): RoPE(128, traditional=False)\n",
       "      )\n",
       "      (mlp): MLP(\n",
       "        (gate_proj): Linear(input_dims=4096, output_dims=11008, bias=False)\n",
       "        (down_proj): Linear(input_dims=11008, output_dims=4096, bias=False)\n",
       "        (up_proj): Linear(input_dims=4096, output_dims=11008, bias=False)\n",
       "      )\n",
       "      (input_layernorm): RMSNorm(4096, eps=1e-05)\n",
       "      (post_attention_layernorm): RMSNorm(4096, eps=1e-05)\n",
       "    )\n",
       "    (layers.10): TransformerBlock(\n",
       "      (self_attn): Attention(\n",
       "        (q_proj): Linear(input_dims=4096, output_dims=4096, bias=False)\n",
       "        (k_proj): Linear(input_dims=4096, output_dims=4096, bias=False)\n",
       "        (v_proj): Linear(input_dims=4096, output_dims=4096, bias=False)\n",
       "        (o_proj): Linear(input_dims=4096, output_dims=4096, bias=False)\n",
       "        (rope): RoPE(128, traditional=False)\n",
       "      )\n",
       "      (mlp): MLP(\n",
       "        (gate_proj): Linear(input_dims=4096, output_dims=11008, bias=False)\n",
       "        (down_proj): Linear(input_dims=11008, output_dims=4096, bias=False)\n",
       "        (up_proj): Linear(input_dims=4096, output_dims=11008, bias=False)\n",
       "      )\n",
       "      (input_layernorm): RMSNorm(4096, eps=1e-05)\n",
       "      (post_attention_layernorm): RMSNorm(4096, eps=1e-05)\n",
       "    )\n",
       "    (layers.11): TransformerBlock(\n",
       "      (self_attn): Attention(\n",
       "        (q_proj): Linear(input_dims=4096, output_dims=4096, bias=False)\n",
       "        (k_proj): Linear(input_dims=4096, output_dims=4096, bias=False)\n",
       "        (v_proj): Linear(input_dims=4096, output_dims=4096, bias=False)\n",
       "        (o_proj): Linear(input_dims=4096, output_dims=4096, bias=False)\n",
       "        (rope): RoPE(128, traditional=False)\n",
       "      )\n",
       "      (mlp): MLP(\n",
       "        (gate_proj): Linear(input_dims=4096, output_dims=11008, bias=False)\n",
       "        (down_proj): Linear(input_dims=11008, output_dims=4096, bias=False)\n",
       "        (up_proj): Linear(input_dims=4096, output_dims=11008, bias=False)\n",
       "      )\n",
       "      (input_layernorm): RMSNorm(4096, eps=1e-05)\n",
       "      (post_attention_layernorm): RMSNorm(4096, eps=1e-05)\n",
       "    )\n",
       "    (layers.12): TransformerBlock(\n",
       "      (self_attn): Attention(\n",
       "        (q_proj): Linear(input_dims=4096, output_dims=4096, bias=False)\n",
       "        (k_proj): Linear(input_dims=4096, output_dims=4096, bias=False)\n",
       "        (v_proj): Linear(input_dims=4096, output_dims=4096, bias=False)\n",
       "        (o_proj): Linear(input_dims=4096, output_dims=4096, bias=False)\n",
       "        (rope): RoPE(128, traditional=False)\n",
       "      )\n",
       "      (mlp): MLP(\n",
       "        (gate_proj): Linear(input_dims=4096, output_dims=11008, bias=False)\n",
       "        (down_proj): Linear(input_dims=11008, output_dims=4096, bias=False)\n",
       "        (up_proj): Linear(input_dims=4096, output_dims=11008, bias=False)\n",
       "      )\n",
       "      (input_layernorm): RMSNorm(4096, eps=1e-05)\n",
       "      (post_attention_layernorm): RMSNorm(4096, eps=1e-05)\n",
       "    )\n",
       "    (layers.13): TransformerBlock(\n",
       "      (self_attn): Attention(\n",
       "        (q_proj): Linear(input_dims=4096, output_dims=4096, bias=False)\n",
       "        (k_proj): Linear(input_dims=4096, output_dims=4096, bias=False)\n",
       "        (v_proj): Linear(input_dims=4096, output_dims=4096, bias=False)\n",
       "        (o_proj): Linear(input_dims=4096, output_dims=4096, bias=False)\n",
       "        (rope): RoPE(128, traditional=False)\n",
       "      )\n",
       "      (mlp): MLP(\n",
       "        (gate_proj): Linear(input_dims=4096, output_dims=11008, bias=False)\n",
       "        (down_proj): Linear(input_dims=11008, output_dims=4096, bias=False)\n",
       "        (up_proj): Linear(input_dims=4096, output_dims=11008, bias=False)\n",
       "      )\n",
       "      (input_layernorm): RMSNorm(4096, eps=1e-05)\n",
       "      (post_attention_layernorm): RMSNorm(4096, eps=1e-05)\n",
       "    )\n",
       "    (layers.14): TransformerBlock(\n",
       "      (self_attn): Attention(\n",
       "        (q_proj): Linear(input_dims=4096, output_dims=4096, bias=False)\n",
       "        (k_proj): Linear(input_dims=4096, output_dims=4096, bias=False)\n",
       "        (v_proj): Linear(input_dims=4096, output_dims=4096, bias=False)\n",
       "        (o_proj): Linear(input_dims=4096, output_dims=4096, bias=False)\n",
       "        (rope): RoPE(128, traditional=False)\n",
       "      )\n",
       "      (mlp): MLP(\n",
       "        (gate_proj): Linear(input_dims=4096, output_dims=11008, bias=False)\n",
       "        (down_proj): Linear(input_dims=11008, output_dims=4096, bias=False)\n",
       "        (up_proj): Linear(input_dims=4096, output_dims=11008, bias=False)\n",
       "      )\n",
       "      (input_layernorm): RMSNorm(4096, eps=1e-05)\n",
       "      (post_attention_layernorm): RMSNorm(4096, eps=1e-05)\n",
       "    )\n",
       "    (layers.15): TransformerBlock(\n",
       "      (self_attn): Attention(\n",
       "        (q_proj): Linear(input_dims=4096, output_dims=4096, bias=False)\n",
       "        (k_proj): Linear(input_dims=4096, output_dims=4096, bias=False)\n",
       "        (v_proj): Linear(input_dims=4096, output_dims=4096, bias=False)\n",
       "        (o_proj): Linear(input_dims=4096, output_dims=4096, bias=False)\n",
       "        (rope): RoPE(128, traditional=False)\n",
       "      )\n",
       "      (mlp): MLP(\n",
       "        (gate_proj): Linear(input_dims=4096, output_dims=11008, bias=False)\n",
       "        (down_proj): Linear(input_dims=11008, output_dims=4096, bias=False)\n",
       "        (up_proj): Linear(input_dims=4096, output_dims=11008, bias=False)\n",
       "      )\n",
       "      (input_layernorm): RMSNorm(4096, eps=1e-05)\n",
       "      (post_attention_layernorm): RMSNorm(4096, eps=1e-05)\n",
       "    )\n",
       "    (layers.16): TransformerBlock(\n",
       "      (self_attn): Attention(\n",
       "        (q_proj): Linear(input_dims=4096, output_dims=4096, bias=False)\n",
       "        (k_proj): Linear(input_dims=4096, output_dims=4096, bias=False)\n",
       "        (v_proj): Linear(input_dims=4096, output_dims=4096, bias=False)\n",
       "        (o_proj): Linear(input_dims=4096, output_dims=4096, bias=False)\n",
       "        (rope): RoPE(128, traditional=False)\n",
       "      )\n",
       "      (mlp): MLP(\n",
       "        (gate_proj): Linear(input_dims=4096, output_dims=11008, bias=False)\n",
       "        (down_proj): Linear(input_dims=11008, output_dims=4096, bias=False)\n",
       "        (up_proj): Linear(input_dims=4096, output_dims=11008, bias=False)\n",
       "      )\n",
       "      (input_layernorm): RMSNorm(4096, eps=1e-05)\n",
       "      (post_attention_layernorm): RMSNorm(4096, eps=1e-05)\n",
       "    )\n",
       "    (layers.17): TransformerBlock(\n",
       "      (self_attn): Attention(\n",
       "        (q_proj): Linear(input_dims=4096, output_dims=4096, bias=False)\n",
       "        (k_proj): Linear(input_dims=4096, output_dims=4096, bias=False)\n",
       "        (v_proj): Linear(input_dims=4096, output_dims=4096, bias=False)\n",
       "        (o_proj): Linear(input_dims=4096, output_dims=4096, bias=False)\n",
       "        (rope): RoPE(128, traditional=False)\n",
       "      )\n",
       "      (mlp): MLP(\n",
       "        (gate_proj): Linear(input_dims=4096, output_dims=11008, bias=False)\n",
       "        (down_proj): Linear(input_dims=11008, output_dims=4096, bias=False)\n",
       "        (up_proj): Linear(input_dims=4096, output_dims=11008, bias=False)\n",
       "      )\n",
       "      (input_layernorm): RMSNorm(4096, eps=1e-05)\n",
       "      (post_attention_layernorm): RMSNorm(4096, eps=1e-05)\n",
       "    )\n",
       "    (layers.18): TransformerBlock(\n",
       "      (self_attn): Attention(\n",
       "        (q_proj): Linear(input_dims=4096, output_dims=4096, bias=False)\n",
       "        (k_proj): Linear(input_dims=4096, output_dims=4096, bias=False)\n",
       "        (v_proj): Linear(input_dims=4096, output_dims=4096, bias=False)\n",
       "        (o_proj): Linear(input_dims=4096, output_dims=4096, bias=False)\n",
       "        (rope): RoPE(128, traditional=False)\n",
       "      )\n",
       "      (mlp): MLP(\n",
       "        (gate_proj): Linear(input_dims=4096, output_dims=11008, bias=False)\n",
       "        (down_proj): Linear(input_dims=11008, output_dims=4096, bias=False)\n",
       "        (up_proj): Linear(input_dims=4096, output_dims=11008, bias=False)\n",
       "      )\n",
       "      (input_layernorm): RMSNorm(4096, eps=1e-05)\n",
       "      (post_attention_layernorm): RMSNorm(4096, eps=1e-05)\n",
       "    )\n",
       "    (layers.19): TransformerBlock(\n",
       "      (self_attn): Attention(\n",
       "        (q_proj): Linear(input_dims=4096, output_dims=4096, bias=False)\n",
       "        (k_proj): Linear(input_dims=4096, output_dims=4096, bias=False)\n",
       "        (v_proj): Linear(input_dims=4096, output_dims=4096, bias=False)\n",
       "        (o_proj): Linear(input_dims=4096, output_dims=4096, bias=False)\n",
       "        (rope): RoPE(128, traditional=False)\n",
       "      )\n",
       "      (mlp): MLP(\n",
       "        (gate_proj): Linear(input_dims=4096, output_dims=11008, bias=False)\n",
       "        (down_proj): Linear(input_dims=11008, output_dims=4096, bias=False)\n",
       "        (up_proj): Linear(input_dims=4096, output_dims=11008, bias=False)\n",
       "      )\n",
       "      (input_layernorm): RMSNorm(4096, eps=1e-05)\n",
       "      (post_attention_layernorm): RMSNorm(4096, eps=1e-05)\n",
       "    )\n",
       "    (layers.20): TransformerBlock(\n",
       "      (self_attn): Attention(\n",
       "        (q_proj): LoRALinear(\n",
       "          (linear): Linear(input_dims=4096, output_dims=4096, bias=False)\n",
       "          (dropout): Dropout(p=0.15000000000000002)\n",
       "        )\n",
       "        (k_proj): Linear(input_dims=4096, output_dims=4096, bias=False)\n",
       "        (v_proj): LoRALinear(\n",
       "          (linear): Linear(input_dims=4096, output_dims=4096, bias=False)\n",
       "          (dropout): Dropout(p=0.15000000000000002)\n",
       "        )\n",
       "        (o_proj): Linear(input_dims=4096, output_dims=4096, bias=False)\n",
       "        (rope): RoPE(128, traditional=False)\n",
       "      )\n",
       "      (mlp): MLP(\n",
       "        (gate_proj): Linear(input_dims=4096, output_dims=11008, bias=False)\n",
       "        (down_proj): Linear(input_dims=11008, output_dims=4096, bias=False)\n",
       "        (up_proj): Linear(input_dims=4096, output_dims=11008, bias=False)\n",
       "      )\n",
       "      (input_layernorm): RMSNorm(4096, eps=1e-05)\n",
       "      (post_attention_layernorm): RMSNorm(4096, eps=1e-05)\n",
       "    )\n",
       "    (layers.21): TransformerBlock(\n",
       "      (self_attn): Attention(\n",
       "        (q_proj): LoRALinear(\n",
       "          (linear): Linear(input_dims=4096, output_dims=4096, bias=False)\n",
       "          (dropout): Dropout(p=0.15000000000000002)\n",
       "        )\n",
       "        (k_proj): Linear(input_dims=4096, output_dims=4096, bias=False)\n",
       "        (v_proj): LoRALinear(\n",
       "          (linear): Linear(input_dims=4096, output_dims=4096, bias=False)\n",
       "          (dropout): Dropout(p=0.15000000000000002)\n",
       "        )\n",
       "        (o_proj): Linear(input_dims=4096, output_dims=4096, bias=False)\n",
       "        (rope): RoPE(128, traditional=False)\n",
       "      )\n",
       "      (mlp): MLP(\n",
       "        (gate_proj): Linear(input_dims=4096, output_dims=11008, bias=False)\n",
       "        (down_proj): Linear(input_dims=11008, output_dims=4096, bias=False)\n",
       "        (up_proj): Linear(input_dims=4096, output_dims=11008, bias=False)\n",
       "      )\n",
       "      (input_layernorm): RMSNorm(4096, eps=1e-05)\n",
       "      (post_attention_layernorm): RMSNorm(4096, eps=1e-05)\n",
       "    )\n",
       "    (layers.22): TransformerBlock(\n",
       "      (self_attn): Attention(\n",
       "        (q_proj): LoRALinear(\n",
       "          (linear): Linear(input_dims=4096, output_dims=4096, bias=False)\n",
       "          (dropout): Dropout(p=0.15000000000000002)\n",
       "        )\n",
       "        (k_proj): Linear(input_dims=4096, output_dims=4096, bias=False)\n",
       "        (v_proj): LoRALinear(\n",
       "          (linear): Linear(input_dims=4096, output_dims=4096, bias=False)\n",
       "          (dropout): Dropout(p=0.15000000000000002)\n",
       "        )\n",
       "        (o_proj): Linear(input_dims=4096, output_dims=4096, bias=False)\n",
       "        (rope): RoPE(128, traditional=False)\n",
       "      )\n",
       "      (mlp): MLP(\n",
       "        (gate_proj): Linear(input_dims=4096, output_dims=11008, bias=False)\n",
       "        (down_proj): Linear(input_dims=11008, output_dims=4096, bias=False)\n",
       "        (up_proj): Linear(input_dims=4096, output_dims=11008, bias=False)\n",
       "      )\n",
       "      (input_layernorm): RMSNorm(4096, eps=1e-05)\n",
       "      (post_attention_layernorm): RMSNorm(4096, eps=1e-05)\n",
       "    )\n",
       "    (layers.23): TransformerBlock(\n",
       "      (self_attn): Attention(\n",
       "        (q_proj): LoRALinear(\n",
       "          (linear): Linear(input_dims=4096, output_dims=4096, bias=False)\n",
       "          (dropout): Dropout(p=0.15000000000000002)\n",
       "        )\n",
       "        (k_proj): Linear(input_dims=4096, output_dims=4096, bias=False)\n",
       "        (v_proj): LoRALinear(\n",
       "          (linear): Linear(input_dims=4096, output_dims=4096, bias=False)\n",
       "          (dropout): Dropout(p=0.15000000000000002)\n",
       "        )\n",
       "        (o_proj): Linear(input_dims=4096, output_dims=4096, bias=False)\n",
       "        (rope): RoPE(128, traditional=False)\n",
       "      )\n",
       "      (mlp): MLP(\n",
       "        (gate_proj): Linear(input_dims=4096, output_dims=11008, bias=False)\n",
       "        (down_proj): Linear(input_dims=11008, output_dims=4096, bias=False)\n",
       "        (up_proj): Linear(input_dims=4096, output_dims=11008, bias=False)\n",
       "      )\n",
       "      (input_layernorm): RMSNorm(4096, eps=1e-05)\n",
       "      (post_attention_layernorm): RMSNorm(4096, eps=1e-05)\n",
       "    )\n",
       "    (layers.24): TransformerBlock(\n",
       "      (self_attn): Attention(\n",
       "        (q_proj): LoRALinear(\n",
       "          (linear): Linear(input_dims=4096, output_dims=4096, bias=False)\n",
       "          (dropout): Dropout(p=0.15000000000000002)\n",
       "        )\n",
       "        (k_proj): Linear(input_dims=4096, output_dims=4096, bias=False)\n",
       "        (v_proj): LoRALinear(\n",
       "          (linear): Linear(input_dims=4096, output_dims=4096, bias=False)\n",
       "          (dropout): Dropout(p=0.15000000000000002)\n",
       "        )\n",
       "        (o_proj): Linear(input_dims=4096, output_dims=4096, bias=False)\n",
       "        (rope): RoPE(128, traditional=False)\n",
       "      )\n",
       "      (mlp): MLP(\n",
       "        (gate_proj): Linear(input_dims=4096, output_dims=11008, bias=False)\n",
       "        (down_proj): Linear(input_dims=11008, output_dims=4096, bias=False)\n",
       "        (up_proj): Linear(input_dims=4096, output_dims=11008, bias=False)\n",
       "      )\n",
       "      (input_layernorm): RMSNorm(4096, eps=1e-05)\n",
       "      (post_attention_layernorm): RMSNorm(4096, eps=1e-05)\n",
       "    )\n",
       "    (layers.25): TransformerBlock(\n",
       "      (self_attn): Attention(\n",
       "        (q_proj): LoRALinear(\n",
       "          (linear): Linear(input_dims=4096, output_dims=4096, bias=False)\n",
       "          (dropout): Dropout(p=0.15000000000000002)\n",
       "        )\n",
       "        (k_proj): Linear(input_dims=4096, output_dims=4096, bias=False)\n",
       "        (v_proj): LoRALinear(\n",
       "          (linear): Linear(input_dims=4096, output_dims=4096, bias=False)\n",
       "          (dropout): Dropout(p=0.15000000000000002)\n",
       "        )\n",
       "        (o_proj): Linear(input_dims=4096, output_dims=4096, bias=False)\n",
       "        (rope): RoPE(128, traditional=False)\n",
       "      )\n",
       "      (mlp): MLP(\n",
       "        (gate_proj): Linear(input_dims=4096, output_dims=11008, bias=False)\n",
       "        (down_proj): Linear(input_dims=11008, output_dims=4096, bias=False)\n",
       "        (up_proj): Linear(input_dims=4096, output_dims=11008, bias=False)\n",
       "      )\n",
       "      (input_layernorm): RMSNorm(4096, eps=1e-05)\n",
       "      (post_attention_layernorm): RMSNorm(4096, eps=1e-05)\n",
       "    )\n",
       "    (layers.26): TransformerBlock(\n",
       "      (self_attn): Attention(\n",
       "        (q_proj): LoRALinear(\n",
       "          (linear): Linear(input_dims=4096, output_dims=4096, bias=False)\n",
       "          (dropout): Dropout(p=0.15000000000000002)\n",
       "        )\n",
       "        (k_proj): Linear(input_dims=4096, output_dims=4096, bias=False)\n",
       "        (v_proj): LoRALinear(\n",
       "          (linear): Linear(input_dims=4096, output_dims=4096, bias=False)\n",
       "          (dropout): Dropout(p=0.15000000000000002)\n",
       "        )\n",
       "        (o_proj): Linear(input_dims=4096, output_dims=4096, bias=False)\n",
       "        (rope): RoPE(128, traditional=False)\n",
       "      )\n",
       "      (mlp): MLP(\n",
       "        (gate_proj): Linear(input_dims=4096, output_dims=11008, bias=False)\n",
       "        (down_proj): Linear(input_dims=11008, output_dims=4096, bias=False)\n",
       "        (up_proj): Linear(input_dims=4096, output_dims=11008, bias=False)\n",
       "      )\n",
       "      (input_layernorm): RMSNorm(4096, eps=1e-05)\n",
       "      (post_attention_layernorm): RMSNorm(4096, eps=1e-05)\n",
       "    )\n",
       "    (layers.27): TransformerBlock(\n",
       "      (self_attn): Attention(\n",
       "        (q_proj): LoRALinear(\n",
       "          (linear): Linear(input_dims=4096, output_dims=4096, bias=False)\n",
       "          (dropout): Dropout(p=0.15000000000000002)\n",
       "        )\n",
       "        (k_proj): Linear(input_dims=4096, output_dims=4096, bias=False)\n",
       "        (v_proj): LoRALinear(\n",
       "          (linear): Linear(input_dims=4096, output_dims=4096, bias=False)\n",
       "          (dropout): Dropout(p=0.15000000000000002)\n",
       "        )\n",
       "        (o_proj): Linear(input_dims=4096, output_dims=4096, bias=False)\n",
       "        (rope): RoPE(128, traditional=False)\n",
       "      )\n",
       "      (mlp): MLP(\n",
       "        (gate_proj): Linear(input_dims=4096, output_dims=11008, bias=False)\n",
       "        (down_proj): Linear(input_dims=11008, output_dims=4096, bias=False)\n",
       "        (up_proj): Linear(input_dims=4096, output_dims=11008, bias=False)\n",
       "      )\n",
       "      (input_layernorm): RMSNorm(4096, eps=1e-05)\n",
       "      (post_attention_layernorm): RMSNorm(4096, eps=1e-05)\n",
       "    )\n",
       "    (layers.28): TransformerBlock(\n",
       "      (self_attn): Attention(\n",
       "        (q_proj): LoRALinear(\n",
       "          (linear): Linear(input_dims=4096, output_dims=4096, bias=False)\n",
       "          (dropout): Dropout(p=0.15000000000000002)\n",
       "        )\n",
       "        (k_proj): Linear(input_dims=4096, output_dims=4096, bias=False)\n",
       "        (v_proj): LoRALinear(\n",
       "          (linear): Linear(input_dims=4096, output_dims=4096, bias=False)\n",
       "          (dropout): Dropout(p=0.15000000000000002)\n",
       "        )\n",
       "        (o_proj): Linear(input_dims=4096, output_dims=4096, bias=False)\n",
       "        (rope): RoPE(128, traditional=False)\n",
       "      )\n",
       "      (mlp): MLP(\n",
       "        (gate_proj): Linear(input_dims=4096, output_dims=11008, bias=False)\n",
       "        (down_proj): Linear(input_dims=11008, output_dims=4096, bias=False)\n",
       "        (up_proj): Linear(input_dims=4096, output_dims=11008, bias=False)\n",
       "      )\n",
       "      (input_layernorm): RMSNorm(4096, eps=1e-05)\n",
       "      (post_attention_layernorm): RMSNorm(4096, eps=1e-05)\n",
       "    )\n",
       "    (layers.29): TransformerBlock(\n",
       "      (self_attn): Attention(\n",
       "        (q_proj): LoRALinear(\n",
       "          (linear): Linear(input_dims=4096, output_dims=4096, bias=False)\n",
       "          (dropout): Dropout(p=0.15000000000000002)\n",
       "        )\n",
       "        (k_proj): Linear(input_dims=4096, output_dims=4096, bias=False)\n",
       "        (v_proj): LoRALinear(\n",
       "          (linear): Linear(input_dims=4096, output_dims=4096, bias=False)\n",
       "          (dropout): Dropout(p=0.15000000000000002)\n",
       "        )\n",
       "        (o_proj): Linear(input_dims=4096, output_dims=4096, bias=False)\n",
       "        (rope): RoPE(128, traditional=False)\n",
       "      )\n",
       "      (mlp): MLP(\n",
       "        (gate_proj): Linear(input_dims=4096, output_dims=11008, bias=False)\n",
       "        (down_proj): Linear(input_dims=11008, output_dims=4096, bias=False)\n",
       "        (up_proj): Linear(input_dims=4096, output_dims=11008, bias=False)\n",
       "      )\n",
       "      (input_layernorm): RMSNorm(4096, eps=1e-05)\n",
       "      (post_attention_layernorm): RMSNorm(4096, eps=1e-05)\n",
       "    )\n",
       "    (layers.30): TransformerBlock(\n",
       "      (self_attn): Attention(\n",
       "        (q_proj): LoRALinear(\n",
       "          (linear): Linear(input_dims=4096, output_dims=4096, bias=False)\n",
       "          (dropout): Dropout(p=0.15000000000000002)\n",
       "        )\n",
       "        (k_proj): Linear(input_dims=4096, output_dims=4096, bias=False)\n",
       "        (v_proj): LoRALinear(\n",
       "          (linear): Linear(input_dims=4096, output_dims=4096, bias=False)\n",
       "          (dropout): Dropout(p=0.15000000000000002)\n",
       "        )\n",
       "        (o_proj): Linear(input_dims=4096, output_dims=4096, bias=False)\n",
       "        (rope): RoPE(128, traditional=False)\n",
       "      )\n",
       "      (mlp): MLP(\n",
       "        (gate_proj): Linear(input_dims=4096, output_dims=11008, bias=False)\n",
       "        (down_proj): Linear(input_dims=11008, output_dims=4096, bias=False)\n",
       "        (up_proj): Linear(input_dims=4096, output_dims=11008, bias=False)\n",
       "      )\n",
       "      (input_layernorm): RMSNorm(4096, eps=1e-05)\n",
       "      (post_attention_layernorm): RMSNorm(4096, eps=1e-05)\n",
       "    )\n",
       "    (layers.31): TransformerBlock(\n",
       "      (self_attn): Attention(\n",
       "        (q_proj): LoRALinear(\n",
       "          (linear): Linear(input_dims=4096, output_dims=4096, bias=False)\n",
       "          (dropout): Dropout(p=0.15000000000000002)\n",
       "        )\n",
       "        (k_proj): Linear(input_dims=4096, output_dims=4096, bias=False)\n",
       "        (v_proj): LoRALinear(\n",
       "          (linear): Linear(input_dims=4096, output_dims=4096, bias=False)\n",
       "          (dropout): Dropout(p=0.15000000000000002)\n",
       "        )\n",
       "        (o_proj): Linear(input_dims=4096, output_dims=4096, bias=False)\n",
       "        (rope): RoPE(128, traditional=False)\n",
       "      )\n",
       "      (mlp): MLP(\n",
       "        (gate_proj): Linear(input_dims=4096, output_dims=11008, bias=False)\n",
       "        (down_proj): Linear(input_dims=11008, output_dims=4096, bias=False)\n",
       "        (up_proj): Linear(input_dims=4096, output_dims=11008, bias=False)\n",
       "      )\n",
       "      (input_layernorm): RMSNorm(4096, eps=1e-05)\n",
       "      (post_attention_layernorm): RMSNorm(4096, eps=1e-05)\n",
       "    )\n",
       "    (norm): RMSNorm(4096, eps=1e-05)\n",
       "  )\n",
       "  (lm_head): Linear(input_dims=4096, output_dims=32016, bias=False)\n",
       ")"
      ]
     },
     "execution_count": 4,
     "metadata": {},
     "output_type": "execute_result"
    }
   ],
   "execution_count": 4
  },
  {
   "cell_type": "markdown",
   "source": "## 8.5 Data Augmentation and Preprocessing\n\nTo improve model performance, we need to ensure the training data is properly formatted and augmented.",
   "metadata": {}
  },
  {
   "cell_type": "markdown",
   "metadata": {},
   "source": [
    "## 5. Load and Prepare Dataset"
   ]
  },
  {
   "cell_type": "code",
   "metadata": {
    "ExecuteTime": {
     "end_time": "2025-08-06T23:39:05.976327Z",
     "start_time": "2025-08-06T23:39:05.145242Z"
    }
   },
   "source": [
    "def custom_load_hf_dataset(\n",
    "    data_id: str,\n",
    "    tokenizer: PreTrainedTokenizer,\n",
    "    config: TrainingArgs = None,\n",
    "    names: Tuple[str, str, str] = (\"train\", \"valid\", \"test\"),\n",
    "):\n",
    "    if config is None:\n",
    "        config = TrainingArgs()\n",
    "\n",
    "    dataset = load_dataset(data_id)\n",
    "    train, valid, test = [\n",
    "        (\n",
    "            datasets.create_dataset(dataset[n], tokenizer, config)\n",
    "            if n in dataset.keys()\n",
    "            else []\n",
    "        )\n",
    "        for n in names\n",
    "    ]\n",
    "    return train, valid, test\n",
    "\n",
    "# Load dataset\n",
    "train_set, val_set, test_set = custom_load_hf_dataset(\n",
    "    data_id=\"mlx-community/wikisql\",\n",
    "    tokenizer=tokenizer,\n",
    "    names=(\"train\", \"valid\", \"test\")\n",
    ")\n",
    "\n",
    "print(f\"Training samples: {len(train_set)}\")\n",
    "print(f\"Validation samples: {len(val_set)}\")\n",
    "print(f\"Test samples: {len(test_set)}\")"
   ],
   "outputs": [
    {
     "name": "stdout",
     "output_type": "stream",
     "text": [
      "Training samples: 1000\n",
      "Validation samples: 100\n",
      "Test samples: 100\n"
     ]
    }
   ],
   "execution_count": 5
  },
  {
   "cell_type": "markdown",
   "metadata": {},
   "source": [
    "## 6. Configure and Run Advanced Training"
   ]
  },
  {
   "cell_type": "code",
   "metadata": {
    "ExecuteTime": {
     "end_time": "2025-08-06T23:57:42.583623Z",
     "start_time": "2025-08-06T23:39:05.992003Z"
    }
   },
   "source": [
    "# Advanced training configuration\n",
    "training_args = TrainingArgs(\n",
    "    adapter_file=adapter_file_path,\n",
    "    iters=300,  # More iterations for better convergence\n",
    "    steps_per_eval=20,  # Frequent evaluation\n",
    "    steps_per_save=50,  # Save checkpoints\n",
    "    batch_size=4,\n",
    "    val_batches=25,\n",
    "    steps_per_report=5,  # Frequent reporting\n",
    "    grad_checkpoint=True,  # Memory efficiency\n",
    ")\n",
    "\n",
    "# Higher learning rate with better optimizer\n",
    "initial_lr = 1e-4  # 2x higher than default\n",
    "optimizer = optim.AdamW(\n",
    "    learning_rate=initial_lr,\n",
    "    betas=[0.9, 0.999],\n",
    "    eps=1e-8,\n",
    "    weight_decay=0.05  # Strong regularization\n",
    ")\n",
    "\n",
    "# Create advanced scheduler callback\n",
    "scheduler_callback = ImprovedLRSchedulerCallback(\n",
    "    optimizer=optimizer,\n",
    "    base_lr=initial_lr,\n",
    "    min_lr=1e-6,\n",
    "    warmup_steps=100,\n",
    "    total_steps=training_args.iters,\n",
    "    schedule_type=\"cosine_restarts\",\n",
    "    gradient_clip_norm=1.0\n",
    ")\n",
    "\n",
    "print(\"🚀 Starting advanced training with all improvements...\")\n",
    "print(f\"  - Initial learning rate: {initial_lr}\")\n",
    "print(f\"  - LoRA rank: {improved_lora_config['lora_parameters']['rank']}\")\n",
    "print(f\"  - Number of LoRA layers: {improved_lora_config['num_layers']}\")\n",
    "print(f\"  - Weight decay: 0.05\")\n",
    "print(f\"  - Gradient clipping: max_norm=1.0\")\n",
    "print(f\"  - Schedule: Cosine with warm restarts\")\n",
    "print(f\"  - Total iterations: {training_args.iters}\")\n",
    "\n",
    "# Train the model\n",
    "train(\n",
    "    model=model,\n",
    "    args=training_args,\n",
    "    optimizer=optimizer,\n",
    "    train_dataset=CacheDataset(train_set),\n",
    "    val_dataset=CacheDataset(val_set),\n",
    "    training_callback=scheduler_callback,\n",
    ")"
   ],
   "outputs": [
    {
     "name": "stdout",
     "output_type": "stream",
     "text": [
      "🚀 Starting advanced training with all improvements...\n",
      "  - Initial learning rate: 0.0001\n",
      "  - LoRA rank: 16\n",
      "  - Number of LoRA layers: 12\n",
      "  - Weight decay: 0.05\n",
      "  - Gradient clipping: max_norm=1.0\n",
      "  - Schedule: Cosine with warm restarts\n",
      "  - Total iterations: 300\n",
      "Starting training..., iters: 300\n"
     ]
    },
    {
     "name": "stderr",
     "output_type": "stream",
     "text": [
      "Calculating loss...: 100%|██████████| 25/25 [00:31<00:00,  1.28s/it]"
     ]
    },
    {
     "name": "stdout",
     "output_type": "stream",
     "text": [
      "Iter 1: Val loss 2.671, Val took 31.938s\n"
     ]
    },
    {
     "name": "stderr",
     "output_type": "stream",
     "text": [
      "\n"
     ]
    },
    {
     "name": "stdout",
     "output_type": "stream",
     "text": [
      "Iter 5: Train loss 2.085, Learning Rate 1.000e-04, It/sec 0.509, Tokens/sec 189.377, Trained Tokens 1860, Peak mem 14.249 GB\n",
      "Iter 10: Train loss 1.567, Learning Rate 5.000e-06, It/sec 0.511, Tokens/sec 186.086, Trained Tokens 3680, Peak mem 14.249 GB\n",
      "Iter 15: Train loss 1.680, Learning Rate 1.000e-05, It/sec 0.471, Tokens/sec 191.902, Trained Tokens 5718, Peak mem 14.249 GB\n"
     ]
    },
    {
     "name": "stderr",
     "output_type": "stream",
     "text": [
      "Calculating loss...: 100%|██████████| 25/25 [00:31<00:00,  1.27s/it]"
     ]
    },
    {
     "name": "stdout",
     "output_type": "stream",
     "text": [
      "Iter 20: Val loss 1.575, Val took 31.756s\n"
     ]
    },
    {
     "name": "stderr",
     "output_type": "stream",
     "text": [
      "\n"
     ]
    },
    {
     "name": "stdout",
     "output_type": "stream",
     "text": [
      "Iter 20: Train loss 1.713, Learning Rate 1.500e-05, It/sec 0.465, Tokens/sec 187.049, Trained Tokens 7731, Peak mem 14.249 GB\n",
      "Iter 25: Train loss 1.444, Learning Rate 2.000e-05, It/sec 0.515, Tokens/sec 202.314, Trained Tokens 9695, Peak mem 14.249 GB\n",
      "Iter 30: Train loss 1.500, Learning Rate 2.500e-05, It/sec 0.452, Tokens/sec 207.621, Trained Tokens 11993, Peak mem 14.540 GB\n",
      "Iter 35: Train loss 1.131, Learning Rate 3.000e-05, It/sec 0.451, Tokens/sec 196.449, Trained Tokens 14169, Peak mem 14.540 GB\n"
     ]
    },
    {
     "name": "stderr",
     "output_type": "stream",
     "text": [
      "Calculating loss...: 100%|██████████| 25/25 [00:32<00:00,  1.30s/it]"
     ]
    },
    {
     "name": "stdout",
     "output_type": "stream",
     "text": [
      "Iter 40: Val loss 1.344, Val took 32.488s\n"
     ]
    },
    {
     "name": "stderr",
     "output_type": "stream",
     "text": [
      "\n"
     ]
    },
    {
     "name": "stdout",
     "output_type": "stream",
     "text": [
      "Iter 40: Train loss 1.468, Learning Rate 3.500e-05, It/sec 0.493, Tokens/sec 197.999, Trained Tokens 16179, Peak mem 14.540 GB\n",
      "Iter 45: Train loss 1.330, Learning Rate 4.000e-05, It/sec 0.440, Tokens/sec 185.210, Trained Tokens 18282, Peak mem 14.540 GB\n",
      "Iter 50: Train loss 1.286, Learning Rate 4.500e-05, It/sec 0.467, Tokens/sec 191.971, Trained Tokens 20336, Peak mem 14.540 GB\n",
      "Iter 50: Saved adapter weights to adapters_improved/adapters.safetensors and adapters_improved/0000050_adapters.safetensors.\n",
      "Iter 55: Train loss 1.289, Learning Rate 5.000e-05, It/sec 0.478, Tokens/sec 186.080, Trained Tokens 22281, Peak mem 14.540 GB\n"
     ]
    },
    {
     "name": "stderr",
     "output_type": "stream",
     "text": [
      "Calculating loss...: 100%|██████████| 25/25 [00:32<00:00,  1.29s/it]"
     ]
    },
    {
     "name": "stdout",
     "output_type": "stream",
     "text": [
      "Iter 60: Val loss 1.237, Val took 32.242s\n"
     ]
    },
    {
     "name": "stderr",
     "output_type": "stream",
     "text": [
      "\n"
     ]
    },
    {
     "name": "stdout",
     "output_type": "stream",
     "text": [
      "Iter 60: Train loss 1.028, Learning Rate 5.500e-05, It/sec 0.547, Tokens/sec 205.400, Trained Tokens 24160, Peak mem 14.540 GB\n",
      "Iter 65: Train loss 1.200, Learning Rate 6.000e-05, It/sec 0.464, Tokens/sec 186.679, Trained Tokens 26170, Peak mem 14.540 GB\n",
      "Iter 70: Train loss 1.539, Learning Rate 6.500e-05, It/sec 0.466, Tokens/sec 189.965, Trained Tokens 28208, Peak mem 14.540 GB\n",
      "Iter 75: Train loss 1.082, Learning Rate 7.000e-05, It/sec 0.546, Tokens/sec 211.175, Trained Tokens 30141, Peak mem 14.540 GB\n"
     ]
    },
    {
     "name": "stderr",
     "output_type": "stream",
     "text": [
      "Calculating loss...: 100%|██████████| 25/25 [00:32<00:00,  1.29s/it]"
     ]
    },
    {
     "name": "stdout",
     "output_type": "stream",
     "text": [
      "Iter 80: Val loss 1.197, Val took 32.363s\n"
     ]
    },
    {
     "name": "stderr",
     "output_type": "stream",
     "text": [
      "\n"
     ]
    },
    {
     "name": "stdout",
     "output_type": "stream",
     "text": [
      "Iter 80: Train loss 1.262, Learning Rate 7.500e-05, It/sec 0.449, Tokens/sec 186.569, Trained Tokens 32218, Peak mem 14.540 GB\n",
      "Iter 85: Train loss 1.289, Learning Rate 8.000e-05, It/sec 0.466, Tokens/sec 191.641, Trained Tokens 34276, Peak mem 14.540 GB\n",
      "Iter 90: Train loss 1.087, Learning Rate 8.500e-05, It/sec 0.528, Tokens/sec 187.478, Trained Tokens 36051, Peak mem 14.540 GB\n",
      "Iter 95: Train loss 1.224, Learning Rate 9.000e-05, It/sec 0.563, Tokens/sec 206.821, Trained Tokens 37887, Peak mem 14.540 GB\n"
     ]
    },
    {
     "name": "stderr",
     "output_type": "stream",
     "text": [
      "Calculating loss...: 100%|██████████| 25/25 [00:32<00:00,  1.29s/it]"
     ]
    },
    {
     "name": "stdout",
     "output_type": "stream",
     "text": [
      "Iter 100: Val loss 1.167, Val took 32.346s\n"
     ]
    },
    {
     "name": "stderr",
     "output_type": "stream",
     "text": [
      "\n"
     ]
    },
    {
     "name": "stdout",
     "output_type": "stream",
     "text": [
      "Iter 100: Train loss 1.031, Learning Rate 9.500e-05, It/sec 0.531, Tokens/sec 195.419, Trained Tokens 39726, Peak mem 14.540 GB\n",
      "Iter 100: Saved adapter weights to adapters_improved/adapters.safetensors and adapters_improved/0000100_adapters.safetensors.\n",
      "Iter 105: Train loss 0.954, Learning Rate 1.000e-04, It/sec 0.452, Tokens/sec 194.678, Trained Tokens 41879, Peak mem 14.540 GB\n",
      "Iter 110: Train loss 1.200, Learning Rate 9.939e-05, It/sec 0.460, Tokens/sec 180.246, Trained Tokens 43839, Peak mem 14.540 GB\n",
      "Iter 115: Train loss 0.888, Learning Rate 9.758e-05, It/sec 0.512, Tokens/sec 201.890, Trained Tokens 45809, Peak mem 14.540 GB\n"
     ]
    },
    {
     "name": "stderr",
     "output_type": "stream",
     "text": [
      "Calculating loss...: 100%|██████████| 25/25 [00:31<00:00,  1.28s/it]"
     ]
    },
    {
     "name": "stdout",
     "output_type": "stream",
     "text": [
      "Iter 120: Val loss 1.148, Val took 31.895s\n"
     ]
    },
    {
     "name": "stderr",
     "output_type": "stream",
     "text": [
      "\n"
     ]
    },
    {
     "name": "stdout",
     "output_type": "stream",
     "text": [
      "Iter 120: Train loss 1.001, Learning Rate 9.460e-05, It/sec 0.531, Tokens/sec 217.376, Trained Tokens 47854, Peak mem 14.540 GB\n",
      "Iter 125: Train loss 1.044, Learning Rate 9.055e-05, It/sec 0.556, Tokens/sec 205.312, Trained Tokens 49699, Peak mem 14.540 GB\n",
      "Iter 130: Train loss 0.981, Learning Rate 8.550e-05, It/sec 0.472, Tokens/sec 189.020, Trained Tokens 51700, Peak mem 14.540 GB\n",
      "Iter 135: Train loss 1.106, Learning Rate 7.960e-05, It/sec 0.487, Tokens/sec 176.257, Trained Tokens 53511, Peak mem 14.540 GB\n"
     ]
    },
    {
     "name": "stderr",
     "output_type": "stream",
     "text": [
      "Calculating loss...: 100%|██████████| 25/25 [00:31<00:00,  1.26s/it]"
     ]
    },
    {
     "name": "stdout",
     "output_type": "stream",
     "text": [
      "Iter 140: Val loss 1.115, Val took 31.507s\n"
     ]
    },
    {
     "name": "stderr",
     "output_type": "stream",
     "text": [
      "\n"
     ]
    },
    {
     "name": "stdout",
     "output_type": "stream",
     "text": [
      "Iter 140: Train loss 1.050, Learning Rate 7.297e-05, It/sec 0.445, Tokens/sec 183.959, Trained Tokens 55577, Peak mem 14.540 GB\n",
      "Iter 145: Train loss 1.176, Learning Rate 6.580e-05, It/sec 0.551, Tokens/sec 214.148, Trained Tokens 57521, Peak mem 14.540 GB\n",
      "Iter 150: Train loss 0.990, Learning Rate 5.824e-05, It/sec 0.497, Tokens/sec 183.661, Trained Tokens 59370, Peak mem 14.540 GB\n",
      "Iter 150: Saved adapter weights to adapters_improved/adapters.safetensors and adapters_improved/0000150_adapters.safetensors.\n",
      "Iter 155: Train loss 0.876, Learning Rate 5.050e-05, It/sec 0.580, Tokens/sec 200.148, Trained Tokens 61094, Peak mem 14.540 GB\n"
     ]
    },
    {
     "name": "stderr",
     "output_type": "stream",
     "text": [
      "Calculating loss...: 100%|██████████| 25/25 [00:31<00:00,  1.27s/it]"
     ]
    },
    {
     "name": "stdout",
     "output_type": "stream",
     "text": [
      "Iter 160: Val loss 1.104, Val took 31.690s\n"
     ]
    },
    {
     "name": "stderr",
     "output_type": "stream",
     "text": [
      "\n"
     ]
    },
    {
     "name": "stdout",
     "output_type": "stream",
     "text": [
      "Iter 160: Train loss 1.064, Learning Rate 4.276e-05, It/sec 0.479, Tokens/sec 184.736, Trained Tokens 63024, Peak mem 14.540 GB\n",
      "Iter 165: Train loss 0.916, Learning Rate 3.520e-05, It/sec 0.535, Tokens/sec 194.902, Trained Tokens 64844, Peak mem 14.540 GB\n",
      "Iter 170: Train loss 1.242, Learning Rate 2.803e-05, It/sec 0.464, Tokens/sec 197.482, Trained Tokens 66974, Peak mem 14.540 GB\n",
      "Iter 175: Train loss 0.828, Learning Rate 2.140e-05, It/sec 0.521, Tokens/sec 192.752, Trained Tokens 68823, Peak mem 14.540 GB\n"
     ]
    },
    {
     "name": "stderr",
     "output_type": "stream",
     "text": [
      "Calculating loss...: 100%|██████████| 25/25 [00:31<00:00,  1.26s/it]"
     ]
    },
    {
     "name": "stdout",
     "output_type": "stream",
     "text": [
      "Iter 180: Val loss 1.105, Val took 31.442s\n"
     ]
    },
    {
     "name": "stderr",
     "output_type": "stream",
     "text": [
      "\n"
     ]
    },
    {
     "name": "stdout",
     "output_type": "stream",
     "text": [
      "Iter 180: Train loss 1.118, Learning Rate 1.550e-05, It/sec 0.494, Tokens/sec 184.660, Trained Tokens 70692, Peak mem 14.540 GB\n",
      "Iter 185: Train loss 1.229, Learning Rate 1.045e-05, It/sec 0.455, Tokens/sec 193.859, Trained Tokens 72820, Peak mem 14.540 GB\n",
      "Iter 190: Train loss 0.906, Learning Rate 6.395e-06, It/sec 0.523, Tokens/sec 189.657, Trained Tokens 74633, Peak mem 14.540 GB\n",
      "Iter 195: Train loss 0.886, Learning Rate 3.423e-06, It/sec 0.522, Tokens/sec 210.768, Trained Tokens 76650, Peak mem 14.540 GB\n"
     ]
    },
    {
     "name": "stderr",
     "output_type": "stream",
     "text": [
      "Calculating loss...: 100%|██████████| 25/25 [00:31<00:00,  1.26s/it]"
     ]
    },
    {
     "name": "stdout",
     "output_type": "stream",
     "text": [
      "Iter 200: Val loss 1.100, Val took 31.419s\n"
     ]
    },
    {
     "name": "stderr",
     "output_type": "stream",
     "text": [
      "\n"
     ]
    },
    {
     "name": "stdout",
     "output_type": "stream",
     "text": [
      "Iter 200: Train loss 1.198, Learning Rate 1.609e-06, It/sec 0.521, Tokens/sec 208.842, Trained Tokens 78655, Peak mem 14.540 GB\n",
      "Iter 200: Saved adapter weights to adapters_improved/adapters.safetensors and adapters_improved/0000200_adapters.safetensors.\n",
      "Iter 205: Train loss 0.892, Learning Rate 8.500e-05, It/sec 0.445, Tokens/sec 205.062, Trained Tokens 80961, Peak mem 14.540 GB\n",
      "Iter 210: Train loss 1.023, Learning Rate 8.448e-05, It/sec 0.491, Tokens/sec 185.848, Trained Tokens 82855, Peak mem 14.540 GB\n",
      "Iter 215: Train loss 0.974, Learning Rate 8.294e-05, It/sec 0.409, Tokens/sec 176.187, Trained Tokens 85008, Peak mem 14.552 GB\n"
     ]
    },
    {
     "name": "stderr",
     "output_type": "stream",
     "text": [
      "Calculating loss...: 100%|██████████| 25/25 [00:31<00:00,  1.25s/it]"
     ]
    },
    {
     "name": "stdout",
     "output_type": "stream",
     "text": [
      "Iter 220: Val loss 1.078, Val took 31.258s\n"
     ]
    },
    {
     "name": "stderr",
     "output_type": "stream",
     "text": [
      "\n"
     ]
    },
    {
     "name": "stdout",
     "output_type": "stream",
     "text": [
      "Iter 220: Train loss 0.930, Learning Rate 8.042e-05, It/sec 0.488, Tokens/sec 181.765, Trained Tokens 86869, Peak mem 14.552 GB\n",
      "Iter 225: Train loss 1.058, Learning Rate 7.698e-05, It/sec 0.450, Tokens/sec 193.620, Trained Tokens 89018, Peak mem 14.552 GB\n",
      "Iter 230: Train loss 1.142, Learning Rate 7.270e-05, It/sec 0.496, Tokens/sec 194.052, Trained Tokens 90975, Peak mem 14.552 GB\n",
      "Iter 235: Train loss 0.972, Learning Rate 6.769e-05, It/sec 0.496, Tokens/sec 206.956, Trained Tokens 93061, Peak mem 14.552 GB\n"
     ]
    },
    {
     "name": "stderr",
     "output_type": "stream",
     "text": [
      "Calculating loss...: 100%|██████████| 25/25 [00:31<00:00,  1.25s/it]"
     ]
    },
    {
     "name": "stdout",
     "output_type": "stream",
     "text": [
      "Iter 240: Val loss 1.064, Val took 31.272s\n"
     ]
    },
    {
     "name": "stderr",
     "output_type": "stream",
     "text": [
      "\n"
     ]
    },
    {
     "name": "stdout",
     "output_type": "stream",
     "text": [
      "Iter 240: Train loss 1.073, Learning Rate 6.207e-05, It/sec 0.472, Tokens/sec 195.790, Trained Tokens 95133, Peak mem 14.552 GB\n",
      "Iter 245: Train loss 0.977, Learning Rate 5.598e-05, It/sec 0.552, Tokens/sec 204.966, Trained Tokens 96990, Peak mem 14.552 GB\n",
      "Iter 250: Train loss 0.925, Learning Rate 4.957e-05, It/sec 0.552, Tokens/sec 214.079, Trained Tokens 98929, Peak mem 14.552 GB\n",
      "Iter 250: Saved adapter weights to adapters_improved/adapters.safetensors and adapters_improved/0000250_adapters.safetensors.\n",
      "Iter 255: Train loss 0.694, Learning Rate 4.300e-05, It/sec 0.584, Tokens/sec 206.284, Trained Tokens 100695, Peak mem 14.552 GB\n"
     ]
    },
    {
     "name": "stderr",
     "output_type": "stream",
     "text": [
      "Calculating loss...: 100%|██████████| 25/25 [00:31<00:00,  1.25s/it]"
     ]
    },
    {
     "name": "stdout",
     "output_type": "stream",
     "text": [
      "Iter 260: Val loss 1.062, Val took 31.250s\n"
     ]
    },
    {
     "name": "stderr",
     "output_type": "stream",
     "text": [
      "\n"
     ]
    },
    {
     "name": "stdout",
     "output_type": "stream",
     "text": [
      "Iter 260: Train loss 0.653, Learning Rate 3.643e-05, It/sec 0.473, Tokens/sec 193.191, Trained Tokens 102739, Peak mem 14.552 GB\n",
      "Iter 265: Train loss 0.908, Learning Rate 3.002e-05, It/sec 0.450, Tokens/sec 185.306, Trained Tokens 104796, Peak mem 14.552 GB\n",
      "Iter 270: Train loss 0.722, Learning Rate 2.393e-05, It/sec 0.473, Tokens/sec 202.515, Trained Tokens 106937, Peak mem 14.552 GB\n",
      "Iter 275: Train loss 0.686, Learning Rate 1.831e-05, It/sec 0.521, Tokens/sec 189.405, Trained Tokens 108753, Peak mem 14.552 GB\n"
     ]
    },
    {
     "name": "stderr",
     "output_type": "stream",
     "text": [
      "Calculating loss...: 100%|██████████| 25/25 [00:31<00:00,  1.25s/it]"
     ]
    },
    {
     "name": "stdout",
     "output_type": "stream",
     "text": [
      "Iter 280: Val loss 1.037, Val took 31.247s\n"
     ]
    },
    {
     "name": "stderr",
     "output_type": "stream",
     "text": [
      "\n"
     ]
    },
    {
     "name": "stdout",
     "output_type": "stream",
     "text": [
      "Iter 280: Train loss 0.745, Learning Rate 1.330e-05, It/sec 0.552, Tokens/sec 204.085, Trained Tokens 110602, Peak mem 14.552 GB\n",
      "Iter 285: Train loss 0.795, Learning Rate 9.021e-06, It/sec 0.473, Tokens/sec 191.719, Trained Tokens 112630, Peak mem 14.552 GB\n",
      "Iter 290: Train loss 0.639, Learning Rate 5.578e-06, It/sec 0.522, Tokens/sec 189.257, Trained Tokens 114442, Peak mem 14.552 GB\n",
      "Iter 295: Train loss 0.813, Learning Rate 3.056e-06, It/sec 0.473, Tokens/sec 195.299, Trained Tokens 116507, Peak mem 14.552 GB\n"
     ]
    },
    {
     "name": "stderr",
     "output_type": "stream",
     "text": [
      "Calculating loss...: 100%|██████████| 25/25 [00:31<00:00,  1.25s/it]"
     ]
    },
    {
     "name": "stdout",
     "output_type": "stream",
     "text": [
      "Iter 300: Val loss 1.036, Val took 31.263s\n"
     ]
    },
    {
     "name": "stderr",
     "output_type": "stream",
     "text": [
      "\n"
     ]
    },
    {
     "name": "stdout",
     "output_type": "stream",
     "text": [
      "Iter 300: Train loss 0.633, Learning Rate 1.517e-06, It/sec 0.521, Tokens/sec 193.838, Trained Tokens 118366, Peak mem 14.552 GB\n",
      "Iter 300: Saved adapter weights to adapters_improved/adapters.safetensors and adapters_improved/0000300_adapters.safetensors.\n",
      "Saved final weights to adapters_improved/adapters.safetensors.\n"
     ]
    }
   ],
   "execution_count": 6
  },
  {
   "cell_type": "markdown",
   "metadata": {},
   "source": [
    "## 7. Analyze Training Results"
   ]
  },
  {
   "cell_type": "code",
   "metadata": {
    "ExecuteTime": {
     "end_time": "2025-08-06T23:57:42.797383Z",
     "start_time": "2025-08-06T23:57:42.592592Z"
    }
   },
   "source": [
    "# Plot training curves\n",
    "scheduler_callback.plot_training_curves()\n",
    "\n",
    "# Print training summary\n",
    "if scheduler_callback.train_losses:\n",
    "    initial_loss = scheduler_callback.train_losses[0][1]\n",
    "    final_loss = scheduler_callback.train_losses[-1][1]\n",
    "    print(\"\\nTraining Summary:\")\n",
    "    print(f\"Initial loss: {initial_loss:.4f}\")\n",
    "    print(f\"Final loss: {final_loss:.4f}\")\n",
    "    print(f\"Loss reduction: {(initial_loss - final_loss)/initial_loss * 100:.1f}%\")\n",
    "    print(f\"Best validation loss: {scheduler_callback.best_val_loss:.4f}\")\n",
    "    print(f\"Plateau boosts applied: {scheduler_callback.plateau_count}\")\n",
    "\n",
    "# Analyze loss progression\n",
    "def diagnose_plateau(losses, window=70):\n",
    "    \"\"\"Diagnose if training has plateaued\"\"\"\n",
    "    if len(losses) < window:\n",
    "        return \"Not enough data\"\n",
    "    \n",
    "    recent = losses[-window:]\n",
    "    loss_std = np.std(recent)\n",
    "    loss_trend = np.polyfit(range(len(recent)), recent, 1)[0]\n",
    "    \n",
    "    print(f\"\\nRecent loss statistics (last {window} steps):\")\n",
    "    print(f\"  - Mean: {np.mean(recent):.4f}\")\n",
    "    print(f\"  - Std: {loss_std:.4f}\")\n",
    "    print(f\"  - Trend: {loss_trend:.6f}\")\n",
    "    \n",
    "    if loss_std < 0.001 and abs(loss_trend) < 0.0001:\n",
    "        return \"PLATEAU DETECTED\"\n",
    "    elif loss_std < 0.01 and abs(loss_trend) < 0.001:\n",
    "        return \"POSSIBLE PLATEAU\"\n",
    "    else:\n",
    "        return \"STILL IMPROVING\"\n",
    "\n",
    "if scheduler_callback.train_losses:\n",
    "    losses = [l[1] for l in scheduler_callback.train_losses]\n",
    "    status = diagnose_plateau(losses)\n",
    "    print(f\"\\nTraining status: {status}\")"
   ],
   "outputs": [
    {
     "data": {
      "text/plain": [
       "<Figure size 1500x600 with 2 Axes>"
      ],
      "image/png": "[encoded data removed]"
     },
     "metadata": {},
     "output_type": "display_data"
    },
    {
     "name": "stdout",
     "output_type": "stream",
     "text": [
      "\n",
      "Training Summary:\n",
      "Initial loss: 2.0846\n",
      "Final loss: 0.6333\n",
      "Loss reduction: 69.6%\n",
      "Best validation loss: 1.0357\n",
      "Plateau boosts applied: 0\n",
      "\n",
      "Training status: Not enough data\n"
     ]
    }
   ],
   "execution_count": 7
  },
  {
   "cell_type": "markdown",
   "metadata": {},
   "source": [
    "## 8. Comprehensive Model Evaluation"
   ]
  },
  {
   "cell_type": "code",
   "metadata": {
    "ExecuteTime": {
     "end_time": "2025-08-06T23:57:47.013486Z",
     "start_time": "2025-08-06T23:57:42.805606Z"
    }
   },
   "source": [
    "def evaluate_model(model, test_dataset, tokenizer, batch_size=4, max_batches=None):\n",
    "    \"\"\"Comprehensive evaluation of the fine-tuned model\"\"\"\n",
    "    model.eval()\n",
    "    \n",
    "    total_loss = 0.0\n",
    "    total_tokens = 0\n",
    "    batch_count = 0\n",
    "    \n",
    "    # Timing metrics\n",
    "    start_time = time.time()\n",
    "    total_generation_time = 0\n",
    "    total_tokens_generated = 0\n",
    "    \n",
    "    # Create batches\n",
    "    batches = []\n",
    "    current_batch = []\n",
    "    \n",
    "    for i, sample in enumerate(test_dataset):\n",
    "        current_batch.append(sample)\n",
    "        if len(current_batch) == batch_size:\n",
    "            batches.append(current_batch)\n",
    "            current_batch = []\n",
    "            if max_batches and len(batches) >= max_batches:\n",
    "                break\n",
    "    \n",
    "    if current_batch:\n",
    "        batches.append(current_batch)\n",
    "    \n",
    "    print(f\"Evaluating on {len(batches)} batches...\")\n",
    "    \n",
    "    # Process batches\n",
    "    for batch_idx, batch in enumerate(tqdm(batches, desc=\"Evaluating\")):\n",
    "        batch_loss = 0.0\n",
    "        batch_tokens = 0\n",
    "        \n",
    "        for sample in batch:\n",
    "            # Handle different dataset formats\n",
    "            if isinstance(sample, dict):\n",
    "                text = sample.get('text', '')\n",
    "                if text:\n",
    "                    input_ids = tokenizer.encode(text)\n",
    "                    target_ids = input_ids\n",
    "                else:\n",
    "                    continue\n",
    "            else:\n",
    "                continue\n",
    "            \n",
    "            if len(input_ids) < 2:\n",
    "                continue\n",
    "                \n",
    "            # Convert to MLX arrays\n",
    "            try:\n",
    "                input_array = mx.array(input_ids)\n",
    "                target_array = mx.array(target_ids)\n",
    "                \n",
    "                # Forward pass for loss calculation\n",
    "                with mx.no_grad():\n",
    "                    logits = model(input_array[None, :-1])\n",
    "                    logits = logits.reshape(-1, logits.shape[-1])\n",
    "                    targets = target_array[1:].reshape(-1)\n",
    "                    \n",
    "                    loss = nn.losses.cross_entropy(logits, targets, reduction='sum')\n",
    "                    batch_loss += loss.item()\n",
    "                    batch_tokens += len(targets)\n",
    "            except Exception as e:\n",
    "                continue\n",
    "        \n",
    "        total_loss += batch_loss\n",
    "        total_tokens += batch_tokens\n",
    "        batch_count += 1\n",
    "    \n",
    "    # Calculate metrics\n",
    "    avg_loss = total_loss / total_tokens if total_tokens > 0 else float('inf')\n",
    "    perplexity = mx.exp(avg_loss).item() if avg_loss != float('inf') else float('inf')\n",
    "    \n",
    "    # Performance metrics\n",
    "    total_time = time.time() - start_time\n",
    "    tokens_per_sec = total_tokens / total_time if total_time > 0 else 0\n",
    "    \n",
    "    return {\n",
    "        'perplexity': perplexity,\n",
    "        'average_loss': avg_loss,\n",
    "        'total_tokens': total_tokens,\n",
    "        'total_batches': batch_count,\n",
    "        'tokens_per_second': tokens_per_sec,\n",
    "        'total_eval_time': total_time\n",
    "    }\n",
    "\n",
    "# Load the fine-tuned model for evaluation\n",
    "model_eval, _ = load(model_path, adapter_path=adapter_path)\n",
    "\n",
    "# Evaluate the model\n",
    "print(\"\\n\" + \"=\"*50)\n",
    "print(\"EVALUATING FINE-TUNED MODEL\")\n",
    "print(\"=\"*50)\n",
    "\n",
    "eval_results = evaluate_model(\n",
    "    model_eval,\n",
    "    test_set[:100],  # Evaluate on first 100 test samples\n",
    "    tokenizer,\n",
    "    batch_size=4,\n",
    "    max_batches=25\n",
    ")\n",
    "\n",
    "# Display results\n",
    "print(\"\\n📊 Evaluation Results:\")\n",
    "print(f\"  - Perplexity: {eval_results['perplexity']:.2f}\")\n",
    "print(f\"  - Average Loss: {eval_results['average_loss']:.4f}\")\n",
    "print(f\"  - Total Tokens Evaluated: {eval_results['total_tokens']:,}\")\n",
    "print(f\"  - Evaluation Speed: {eval_results['tokens_per_second']:.1f} tokens/sec\")\n",
    "print(f\"  - Total Evaluation Time: {eval_results['total_eval_time']:.2f} seconds\")\n",
    "\n",
    "# Baseline comparison\n",
    "print(\"\\n\" + \"=\"*50)\n",
    "print(\"BASELINE COMPARISON\")\n",
    "print(\"=\"*50)\n",
    "print(\"Typical baseline perplexity for base models: 10-30\")\n",
    "print(f\"Our fine-tuned model perplexity: {eval_results['perplexity']:.2f}\")\n",
    "\n",
    "if eval_results['perplexity'] < 15:\n",
    "    print(\"✅ Excellent! Model shows significant improvement.\")\n",
    "elif eval_results['perplexity'] < 25:\n",
    "    print(\"✅ Good! Model shows improvement.\")\n",
    "else:\n",
    "    print(\"⚠️ Model may need more training or tuning.\")"
   ],
   "outputs": [
    {
     "data": {
      "text/plain": [
       "Fetching 10 files:   0%|          | 0/10 [00:00<?, ?it/s]"
      ],
      "application/vnd.jupyter.widget-view+json": {
       "version_major": 2,
       "version_minor": 0,
       "model_id": "53cfc18e607b44c68a8ef34b51dfa175"
      }
     },
     "metadata": {},
     "output_type": "display_data"
    },
    {
     "name": "stdout",
     "output_type": "stream",
     "text": [
      "\n",
      "==================================================\n",
      "EVALUATING FINE-TUNED MODEL\n",
      "==================================================\n",
      "Evaluating on 1 batches...\n"
     ]
    },
    {
     "name": "stderr",
     "output_type": "stream",
     "text": [
      "Evaluating: 100%|██████████| 1/1 [00:00<00:00, 9000.65it/s]"
     ]
    },
    {
     "name": "stdout",
     "output_type": "stream",
     "text": [
      "\n",
      "📊 Evaluation Results:\n",
      "  - Perplexity: inf\n",
      "  - Average Loss: inf\n",
      "  - Total Tokens Evaluated: 0\n",
      "  - Evaluation Speed: 0.0 tokens/sec\n",
      "  - Total Evaluation Time: 0.01 seconds\n",
      "\n",
      "==================================================\n",
      "BASELINE COMPARISON\n",
      "==================================================\n",
      "Typical baseline perplexity for base models: 10-30\n",
      "Our fine-tuned model perplexity: inf\n",
      "⚠️ Model may need more training or tuning.\n"
     ]
    },
    {
     "name": "stderr",
     "output_type": "stream",
     "text": [
      "\n"
     ]
    }
   ],
   "execution_count": 8
  },
  {
   "cell_type": "markdown",
   "metadata": {},
   "source": [
    "## 9. Test Model Generation"
   ]
  },
  {
   "cell_type": "code",
   "metadata": {
    "ExecuteTime": {
     "end_time": "2025-08-07T03:03:38.124398Z",
     "start_time": "2025-08-07T03:03:37.959221Z"
    }
   },
   "source": [
    "# Test the fine-tuned model with sample prompts\n",
    "test_prompts = [\n",
    "    \"Express in SQL:Now Translate:What is best city in the world?\",\n",
    "    \"Express in SQL:how many engines we have in system is gas powered and how many is CNG?\",\n",
    "    \"Express in SQL:What is the max gross weight of the Robinson R-22?\"\n",
    "]\n",
    "\n",
    "print(\"\\n\" + \"=\"*50)\n",
    "print(\"SAMPLE GENERATIONS\")\n",
    "print(\"=\"*50)\n",
    "\n",
    "for prompt in test_prompts:\n",
    "    print(f\"\\nPrompt: {prompt}\")\n",
    "    print(\"-\" * 50)\n",
    "    \n",
    "    if tokenizer.chat_template is not None:\n",
    "        messages = [{\"role\": \"user\", \"content\": prompt}]\n",
    "        formatted_prompt = tokenizer.apply_chat_template(\n",
    "            messages, add_generation_prompt=True\n",
    "        )\n",
    "    else:\n",
    "        formatted_prompt = prompt\n",
    "    \n",
    "    response = generate(\n",
    "        model_eval, \n",
    "        tokenizer, \n",
    "        prompt=formatted_prompt, \n",
    "        max_tokens=100,\n",
    "        verbose=False\n",
    "    )\n",
    "    print(f\"Response: {response}\")\n",
    "    # Load model\n",
    "    #model_path = \"codellama/CodeLlama-7b-Instruct-hf\"\n",
    "    #model, tokenizer = load(model_path)\n",
    "    response = generate(\n",
    "            model,\n",
    "            tokenizer,\n",
    "            prompt=prompt,\n",
    "            max_tokens=50,\n",
    "            verbose=False\n",
    "    )\n",
    "    print(f\"Raw model Response: '{response}'\")\n",
    "\n",
    "# Test with dataset samples\n",
    "print(\"\\n\" + \"=\"*50)\n",
    "print(\"GENERATIONS FROM TEST DATASET\")\n",
    "print(\"=\"*50)\n",
    "\n",
    "for i in range(min(3, len(test_set))):\n",
    "    sample = test_set[i]\n",
    "    if isinstance(sample, dict) and 'text' in sample:\n",
    "        text = sample['text']\n",
    "        # Use first part as prompt\n",
    "        words = text.split()\n",
    "        prompt = \" \".join(words[:15]) if len(words) > 15 else text\n",
    "        \n",
    "        print(f\"\\nPrompt: '{prompt}...'\")\n",
    "        response = generate(\n",
    "            model_eval,\n",
    "            tokenizer,\n",
    "            prompt=prompt,\n",
    "            max_tokens=50,\n",
    "            verbose=False\n",
    "        )\n",
    "        print(f\"Response: '{response}'\")\n",
    "\n"
   ],
   "outputs": [
    {
     "name": "stdout",
     "output_type": "stream",
     "text": [
      "\n",
      "==================================================\n",
      "SAMPLE GENERATIONS\n",
      "==================================================\n",
      "\n",
      "Prompt: Express in SQL:Now Translate:What is best city in the world?\n",
      "--------------------------------------------------\n"
     ]
    },
    {
     "ename": "NameError",
     "evalue": "name 'tokenizer' is not defined",
     "output_type": "error",
     "traceback": [
      "\u001B[31m---------------------------------------------------------------------------\u001B[39m",
      "\u001B[31mNameError\u001B[39m                                 Traceback (most recent call last)",
      "\u001B[36mCell\u001B[39m\u001B[36m \u001B[39m\u001B[32mIn[1]\u001B[39m\u001B[32m, line 16\u001B[39m\n\u001B[32m     13\u001B[39m \u001B[38;5;28mprint\u001B[39m(\u001B[33mf\u001B[39m\u001B[33m\"\u001B[39m\u001B[38;5;130;01m\\n\u001B[39;00m\u001B[33mPrompt: \u001B[39m\u001B[38;5;132;01m{\u001B[39;00mprompt\u001B[38;5;132;01m}\u001B[39;00m\u001B[33m\"\u001B[39m)\n\u001B[32m     14\u001B[39m \u001B[38;5;28mprint\u001B[39m(\u001B[33m\"\u001B[39m\u001B[33m-\u001B[39m\u001B[33m\"\u001B[39m * \u001B[32m50\u001B[39m)\n\u001B[32m---> \u001B[39m\u001B[32m16\u001B[39m \u001B[38;5;28;01mif\u001B[39;00m tokenizer.chat_template \u001B[38;5;129;01mis\u001B[39;00m \u001B[38;5;129;01mnot\u001B[39;00m \u001B[38;5;28;01mNone\u001B[39;00m:\n\u001B[32m     17\u001B[39m     messages = [{\u001B[33m\"\u001B[39m\u001B[33mrole\u001B[39m\u001B[33m\"\u001B[39m: \u001B[33m\"\u001B[39m\u001B[33muser\u001B[39m\u001B[33m\"\u001B[39m, \u001B[33m\"\u001B[39m\u001B[33mcontent\u001B[39m\u001B[33m\"\u001B[39m: prompt}]\n\u001B[32m     18\u001B[39m     formatted_prompt = tokenizer.apply_chat_template(\n\u001B[32m     19\u001B[39m         messages, add_generation_prompt=\u001B[38;5;28;01mTrue\u001B[39;00m\n\u001B[32m     20\u001B[39m     )\n",
      "\u001B[31mNameError\u001B[39m: name 'tokenizer' is not defined"
     ]
    }
   ],
   "execution_count": 1
  },
  {
   "cell_type": "markdown",
   "metadata": {},
   "source": [
    "## Summary\n\n",
    "This notebook implements state-of-the-art fine-tuning with:\n",
    "- **64-rank LoRA** for increased model capacity\n",
    "- **1e-4 learning rate** with cosine warm restarts\n",
    "- **Gradient clipping** for training stability\n",
    "- **Aggressive plateau detection** with automatic LR boosting\n",
    "- **Strong regularization** with dropout and weight decay\n",
    "- **Comprehensive evaluation** with perplexity metrics\n\n",
    "The model should achieve better performance and avoid training plateaus."
   ]
  }
 ],
 "metadata": {
  "kernelspec": {
   "display_name": "Python 3",
   "language": "python",
   "name": "python3"
  },
  "language_info": {
   "codemirror_mode": {
    "name": "ipython",
    "version": 3
   },
   "file_extension": ".py",
   "mimetype": "text/x-python",
   "name": "python",
   "nbconvert_exporter": "python",
   "pygments_lexer": "ipython3",
   "version": "3.8.0"
  }
 },
 "nbformat": 4,
 "nbformat_minor": 4
}
